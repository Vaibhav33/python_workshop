{
  "nbformat": 4,
  "nbformat_minor": 0,
  "metadata": {
    "colab": {
      "name": "Copy of python2.ipynb",
      "provenance": [],
      "collapsed_sections": [],
      "authorship_tag": "ABX9TyOt3amUalrPcEpyq+0IWphe",
      "include_colab_link": true
    },
    "kernelspec": {
      "name": "python3",
      "display_name": "Python 3"
    }
  },
  "cells": [
    {
      "cell_type": "markdown",
      "metadata": {
        "id": "view-in-github",
        "colab_type": "text"
      },
      "source": [
        "<a href=\"https://colab.research.google.com/github/Vaibhav33/python_workshop/blob/main/Copy_of_python2.ipynb\" target=\"_parent\"><img src=\"https://colab.research.google.com/assets/colab-badge.svg\" alt=\"Open In Colab\"/></a>"
      ]
    },
    {
      "cell_type": "code",
      "metadata": {
        "colab": {
          "base_uri": "https://localhost:8080/"
        },
        "id": "OvM0Pdkb9wrw",
        "outputId": "f56b87ec-cf63-41b7-a7ac-cdb0d86b3264"
      },
      "source": [
        "numbers={1,2,3,4}\r\n",
        "print(numbers)"
      ],
      "execution_count": null,
      "outputs": [
        {
          "output_type": "stream",
          "text": [
            "{1, 2, 3, 4}\n"
          ],
          "name": "stdout"
        }
      ]
    },
    {
      "cell_type": "code",
      "metadata": {
        "colab": {
          "base_uri": "https://localhost:8080/"
        },
        "id": "0VpZVgPt_OXy",
        "outputId": "523687ba-2e59-4300-db60-a716a48608e8"
      },
      "source": [
        "a=set(('ece','cse','ise'))\r\n",
        "print(a)"
      ],
      "execution_count": null,
      "outputs": [
        {
          "output_type": "stream",
          "text": [
            "{'ise', 'cse', 'ece'}\n"
          ],
          "name": "stdout"
        }
      ]
    },
    {
      "cell_type": "code",
      "metadata": {
        "colab": {
          "base_uri": "https://localhost:8080/"
        },
        "id": "41L6Vhzk_bch",
        "outputId": "0e2f1ab6-50fe-4b7b-ef86-3b0492b91afa"
      },
      "source": [
        "a.add('mech')\r\n",
        "print(a)\r\n",
        "print(len(a))\r\n",
        "a.add(\"cse\")\r\n",
        "print(len(a))\r\n",
        "print(a)"
      ],
      "execution_count": null,
      "outputs": [
        {
          "output_type": "stream",
          "text": [
            "{'ise', 'cse', 'mech', 'ece'}\n",
            "4\n",
            "4\n",
            "{'ise', 'cse', 'mech', 'ece'}\n"
          ],
          "name": "stdout"
        }
      ]
    },
    {
      "cell_type": "code",
      "metadata": {
        "colab": {
          "base_uri": "https://localhost:8080/"
        },
        "id": "Y4aXWm94A9pC",
        "outputId": "83937d67-a0bc-4994-f9b7-f90612f2a4d4"
      },
      "source": [
        "a.remove('mech')\r\n",
        "print(a)"
      ],
      "execution_count": null,
      "outputs": [
        {
          "output_type": "stream",
          "text": [
            "{'ise', 'cse', 'ece'}\n"
          ],
          "name": "stdout"
        }
      ]
    },
    {
      "cell_type": "code",
      "metadata": {
        "colab": {
          "base_uri": "https://localhost:8080/"
        },
        "id": "qRQRiEgUBFpS",
        "outputId": "871c0566-f584-4725-ef34-1630d79c5b45"
      },
      "source": [
        "a.discard('mech')\r\n",
        "print(a)"
      ],
      "execution_count": null,
      "outputs": [
        {
          "output_type": "stream",
          "text": [
            "{'ise', 'cse', 'ece'}\n"
          ],
          "name": "stdout"
        }
      ]
    },
    {
      "cell_type": "code",
      "metadata": {
        "colab": {
          "base_uri": "https://localhost:8080/"
        },
        "id": "CUbkObGNBdAS",
        "outputId": "da993f56-936c-4d78-ada6-a3b8d1d1003d"
      },
      "source": [
        "a=set(('ece','cse','ise','mech'))\r\n",
        "deleted=a.pop()\r\n",
        "print(deleted)\r\n",
        "print(a)"
      ],
      "execution_count": null,
      "outputs": [
        {
          "output_type": "stream",
          "text": [
            "ise\n",
            "{'cse', 'mech', 'ece'}\n"
          ],
          "name": "stdout"
        }
      ]
    },
    {
      "cell_type": "code",
      "metadata": {
        "colab": {
          "base_uri": "https://localhost:8080/"
        },
        "id": "4nWImZy0CK_h",
        "outputId": "7e397cd0-0019-403b-e594-661092ec24a5"
      },
      "source": [
        "thisset={\"apple\",\"banana\",\"cherry\"}\r\n",
        "thisset.clear()\r\n",
        "print(thisset)\r\n",
        "print(len(thisset))"
      ],
      "execution_count": null,
      "outputs": [
        {
          "output_type": "stream",
          "text": [
            "set()\n",
            "0\n"
          ],
          "name": "stdout"
        }
      ]
    },
    {
      "cell_type": "code",
      "metadata": {
        "colab": {
          "base_uri": "https://localhost:8080/"
        },
        "id": "SvmRzmnTC7_Z",
        "outputId": "ad1ae627-ead0-461e-8e5c-2ac71bc569b5"
      },
      "source": [
        "set1={\"a\",\"b\",\"c\"}\r\n",
        "set2={1,2,3}\r\n",
        "set3=set1.union(set2)\r\n",
        "print(set3)"
      ],
      "execution_count": null,
      "outputs": [
        {
          "output_type": "stream",
          "text": [
            "{'c', 'b', 1, 2, 'a', 3}\n"
          ],
          "name": "stdout"
        }
      ]
    },
    {
      "cell_type": "code",
      "metadata": {
        "colab": {
          "base_uri": "https://localhost:8080/"
        },
        "id": "PYxYzN2IENxZ",
        "outputId": "becae3ce-0216-4db0-ed2d-194af942ed15"
      },
      "source": [
        "thisset={\"apple\",\"banana\",\"cherry\"}\r\n",
        "mylist=[\"kiwi\",\"orange\"]\r\n",
        "thisset.update(mylist)\r\n",
        "print(thisset)\r\n",
        "\r\n"
      ],
      "execution_count": null,
      "outputs": [
        {
          "output_type": "stream",
          "text": [
            "{'apple', 'orange', 'kiwi', 'banana', 'cherry'}\n"
          ],
          "name": "stdout"
        }
      ]
    },
    {
      "cell_type": "code",
      "metadata": {
        "colab": {
          "base_uri": "https://localhost:8080/"
        },
        "id": "NY4Tt7X8Eizh",
        "outputId": "ee26c949-9c9e-4e7f-9382-5aa757dd5426"
      },
      "source": [
        "set1={\"a\",\"b\",\"c\"}\r\n",
        "set2={1,2,3}\r\n",
        "set3=set1.union(set2)\r\n",
        "print(set3)\r\n",
        "set4=[6,7,5,4]\r\n",
        "set3.update(set4)\r\n",
        "print(set3)"
      ],
      "execution_count": null,
      "outputs": [
        {
          "output_type": "stream",
          "text": [
            "{'c', 'b', 1, 2, 'a', 3}\n",
            "{'c', 1, 2, 3, 5, 6, 7, 4, 'a', 'b'}\n"
          ],
          "name": "stdout"
        }
      ]
    },
    {
      "cell_type": "code",
      "metadata": {
        "colab": {
          "base_uri": "https://localhost:8080/"
        },
        "id": "KL4xY-i4FJdw",
        "outputId": "54abbcd6-cb3c-441d-db1b-9ad8c2515d13"
      },
      "source": [
        "a=[1,2,3,4,1,2]\r\n",
        "s=set(a)\r\n",
        "print(s)\r\n",
        "print(type(s))"
      ],
      "execution_count": null,
      "outputs": [
        {
          "output_type": "stream",
          "text": [
            "{1, 2, 3, 4}\n",
            "<class 'set'>\n"
          ],
          "name": "stdout"
        }
      ]
    },
    {
      "cell_type": "code",
      "metadata": {
        "colab": {
          "base_uri": "https://localhost:8080/"
        },
        "id": "8tr9N8XPFtlW",
        "outputId": "a830ae34-e3c5-4d1d-a024-6855a0977038"
      },
      "source": [
        "fruits={\"apple\",\"orange\",\"banana\"}\r\n",
        "fruits.add(\"cherry\")\r\n",
        "print(fruits)"
      ],
      "execution_count": null,
      "outputs": [
        {
          "output_type": "stream",
          "text": [
            "{'banana', 'apple', 'cherry', 'orange'}\n"
          ],
          "name": "stdout"
        }
      ]
    },
    {
      "cell_type": "code",
      "metadata": {
        "id": "EsFqKyCZGBwa"
      },
      "source": [
        ""
      ],
      "execution_count": null,
      "outputs": []
    },
    {
      "cell_type": "code",
      "metadata": {
        "colab": {
          "base_uri": "https://localhost:8080/"
        },
        "id": "BVkayhDNGEE5",
        "outputId": "8675d4c7-5406-4445-bdf8-ed0664c6eb7d"
      },
      "source": [
        "fruits={\"apple\",\"banana\",\"cherry\"}\r\n",
        "more_fruits=[\"orange\",\"mango\",\"grapes\"]\r\n",
        "fruits.update(more_fruits)\r\n",
        "print(fruits)\r\n",
        "fruits=fruits.union(more_fruits)\r\n",
        "print(fruits)"
      ],
      "execution_count": null,
      "outputs": [
        {
          "output_type": "stream",
          "text": [
            "{'apple', 'grapes', 'orange', 'mango', 'banana', 'cherry'}\n",
            "{'banana', 'apple', 'grapes', 'orange', 'mango', 'cherry'}\n"
          ],
          "name": "stdout"
        }
      ]
    },
    {
      "cell_type": "code",
      "metadata": {
        "colab": {
          "base_uri": "https://localhost:8080/"
        },
        "id": "cOug1kcdG4ah",
        "outputId": "1ec05123-c7bf-4197-fc05-64fbe6cbd904"
      },
      "source": [
        "fruits={\"apple\",\"banana\",\"cherry\"}\r\n",
        "fruits.remove(\"banana\")\r\n",
        "print(fruits)"
      ],
      "execution_count": null,
      "outputs": [
        {
          "output_type": "stream",
          "text": [
            "{'apple', 'cherry'}\n"
          ],
          "name": "stdout"
        }
      ]
    },
    {
      "cell_type": "code",
      "metadata": {
        "colab": {
          "base_uri": "https://localhost:8080/"
        },
        "id": "qcB1Psh-HKFh",
        "outputId": "56891b33-5305-41ba-bbc7-913088871b15"
      },
      "source": [
        "fruits={\"apple\",\"banana\",\"cherry\"}\r\n",
        "fruits.discard(\"banana\")\r\n",
        "print(fruits)"
      ],
      "execution_count": null,
      "outputs": [
        {
          "output_type": "stream",
          "text": [
            "{'apple', 'cherry'}\n"
          ],
          "name": "stdout"
        }
      ]
    },
    {
      "cell_type": "code",
      "metadata": {
        "colab": {
          "base_uri": "https://localhost:8080/"
        },
        "id": "makMZRVBHmzB",
        "outputId": "08e76c58-352b-4d2a-dbc3-58c61442d2d4"
      },
      "source": [
        "a=[1,2,1,2,3]\r\n",
        "print(len(set(a)))\r\n"
      ],
      "execution_count": null,
      "outputs": [
        {
          "output_type": "stream",
          "text": [
            "3\n"
          ],
          "name": "stdout"
        }
      ]
    },
    {
      "cell_type": "code",
      "metadata": {
        "colab": {
          "base_uri": "https://localhost:8080/"
        },
        "id": "Gv9biefmJedL",
        "outputId": "2aa13ab7-9c32-4992-d017-7b4618c256a1"
      },
      "source": [
        "today={\r\n",
        "    \"day\":\"thursday\",\r\n",
        "    \"date\":\"7/01/2021\",\r\n",
        "    \"month\":\"january\"\r\n",
        "}\r\n",
        "print(today)"
      ],
      "execution_count": null,
      "outputs": [
        {
          "output_type": "stream",
          "text": [
            "{'day': 'thursday', 'date': '7/01/2021', 'month': 'january'}\n"
          ],
          "name": "stdout"
        }
      ]
    },
    {
      "cell_type": "code",
      "metadata": {
        "colab": {
          "base_uri": "https://localhost:8080/"
        },
        "id": "iG1EAYaOKCoK",
        "outputId": "65068650-c2f1-456c-a46e-165929d8c0a6"
      },
      "source": [
        "thisdict={\r\n",
        "    \"brand\":\"Ford\",\r\n",
        "    \"model\":\"Mustang\",\r\n",
        "    \"year\":1964,\r\n",
        "    \"year\":2020,\r\n",
        "    \"model\":\"GT\",\r\n",
        "}\r\n",
        "print(thisdict)\r\n",
        "x=thisdict[\"model\"]\r\n",
        "print(x)\r\n",
        "print(len(thisdict))"
      ],
      "execution_count": null,
      "outputs": [
        {
          "output_type": "stream",
          "text": [
            "{'brand': 'Ford', 'model': 'GT', 'year': 2020}\n",
            "GT\n",
            "3\n"
          ],
          "name": "stdout"
        }
      ]
    },
    {
      "cell_type": "code",
      "metadata": {
        "colab": {
          "base_uri": "https://localhost:8080/"
        },
        "id": "W_00nZUdMl_R",
        "outputId": "bf0e66d5-4f38-4b6e-f5c5-7bcc5dbada18"
      },
      "source": [
        "thisdict={\r\n",
        "    \"brand\":\"Ford\",\r\n",
        "    \"model\":\"Mustang\",\r\n",
        "    \"year\":1964,\r\n",
        "}\r\n",
        "print(thisdict)\r\n",
        "x=thisdict.keys()\r\n",
        "print(x)"
      ],
      "execution_count": null,
      "outputs": [
        {
          "output_type": "stream",
          "text": [
            "{'brand': 'Ford', 'model': 'Mustang', 'year': 1964}\n",
            "dict_keys(['brand', 'model', 'year'])\n"
          ],
          "name": "stdout"
        }
      ]
    },
    {
      "cell_type": "code",
      "metadata": {
        "colab": {
          "base_uri": "https://localhost:8080/"
        },
        "id": "DYqBO0imNQdg",
        "outputId": "0d7a13c7-be67-4827-bfa3-4f24a2da11f1"
      },
      "source": [
        "thisdict={\r\n",
        "    \"brand\":\"Ford\",\r\n",
        "    \"model\":\"Mustang\",\r\n",
        "    \"year\":1964,\r\n",
        "}\r\n",
        "x=thisdict.values()\r\n",
        "thisdict[\"year\"]=2021\r\n",
        "print(x)\r\n",
        "print(len(thisdict))"
      ],
      "execution_count": null,
      "outputs": [
        {
          "output_type": "stream",
          "text": [
            "dict_values(['Ford', 'Mustang', 2021])\n",
            "3\n"
          ],
          "name": "stdout"
        }
      ]
    },
    {
      "cell_type": "code",
      "metadata": {
        "colab": {
          "base_uri": "https://localhost:8080/"
        },
        "id": "aAni5WxVNuMX",
        "outputId": "d8157e72-b885-4571-f9d5-50b14c3250c7"
      },
      "source": [
        "thisdict={\r\n",
        "    \"brand\":\"Ford\",\r\n",
        "    \"model\":\"Mustang\",\r\n",
        "    \"year\":1964,\r\n",
        "}\r\n",
        "thisdict[\"year\"]=2018\r\n",
        "print(thisdict)"
      ],
      "execution_count": null,
      "outputs": [
        {
          "output_type": "stream",
          "text": [
            "{'brand': 'Ford', 'model': 'Mustang', 'year': 2018}\n"
          ],
          "name": "stdout"
        }
      ]
    },
    {
      "cell_type": "code",
      "metadata": {
        "colab": {
          "base_uri": "https://localhost:8080/"
        },
        "id": "WuYpLXEhOABX",
        "outputId": "baad319e-59bd-4f63-d845-10b2d0770de2"
      },
      "source": [
        "thisdict={\r\n",
        "    \"brand\":\"Ford\",\r\n",
        "    \"model\":\"Mustang\",\r\n",
        "    \"year\":1964,\r\n",
        "}\r\n",
        "thisdict.update({\"year\":2020})\r\n",
        "print(thisdict)"
      ],
      "execution_count": null,
      "outputs": [
        {
          "output_type": "stream",
          "text": [
            "{'brand': 'Ford', 'model': 'Mustang', 'year': 2020}\n"
          ],
          "name": "stdout"
        }
      ]
    },
    {
      "cell_type": "code",
      "metadata": {
        "colab": {
          "base_uri": "https://localhost:8080/"
        },
        "id": "e3tkSXXPOSsh",
        "outputId": "c641e780-1fa2-42ff-bead-0ec8374e1065"
      },
      "source": [
        "thisdict={\r\n",
        "    \"brand\":\"Ford\",\r\n",
        "    \"model\":\"Mustang\",\r\n",
        "    \"year\":1964,\r\n",
        "}\r\n",
        "thisdict[\"color\"]=\"red\"\r\n",
        "print(thisdict)"
      ],
      "execution_count": null,
      "outputs": [
        {
          "output_type": "stream",
          "text": [
            "{'brand': 'Ford', 'model': 'Mustang', 'year': 1964, 'color': 'red'}\n"
          ],
          "name": "stdout"
        }
      ]
    },
    {
      "cell_type": "code",
      "metadata": {
        "colab": {
          "base_uri": "https://localhost:8080/"
        },
        "id": "pX9EPY6dO8XA",
        "outputId": "e8855b62-a9b0-499c-c5c0-de2bd3e4bf18"
      },
      "source": [
        "thisdict={\r\n",
        "    \"brand\":\"Ford\",\r\n",
        "    \"model\":\"Mustang\",\r\n",
        "    \"year\":1964,\r\n",
        "}\r\n",
        "thisdict.update({\"color\":\"red\"})\r\n",
        "print(thisdict)"
      ],
      "execution_count": null,
      "outputs": [
        {
          "output_type": "stream",
          "text": [
            "{'brand': 'Ford', 'model': 'Mustang', 'year': 1964, 'color': 'red'}\n"
          ],
          "name": "stdout"
        }
      ]
    },
    {
      "cell_type": "code",
      "metadata": {
        "colab": {
          "base_uri": "https://localhost:8080/"
        },
        "id": "a494XfisPtrJ",
        "outputId": "353050cb-748e-46fa-a703-fd5013502cf0"
      },
      "source": [
        "thisdict={\r\n",
        "    \"brand\":\"Ford\",\r\n",
        "    \"model\":\"Mustang\",\r\n",
        "    \"year\":1964,\r\n",
        "}\r\n",
        "thisdict.popitem()\r\n",
        "print(thisdict)"
      ],
      "execution_count": null,
      "outputs": [
        {
          "output_type": "stream",
          "text": [
            "{'brand': 'Ford', 'model': 'Mustang'}\n"
          ],
          "name": "stdout"
        }
      ]
    },
    {
      "cell_type": "code",
      "metadata": {
        "colab": {
          "base_uri": "https://localhost:8080/"
        },
        "id": "QjkRp37iQjfR",
        "outputId": "f6aa74cf-c3c5-4a5f-bc73-a97d320cc933"
      },
      "source": [
        "thisdict={\r\n",
        "    \"brand\":\"Ford\",\r\n",
        "    \"model\":\"Mustang\",\r\n",
        "    \"year\":1964,\r\n",
        "}\r\n",
        "del thisdict[\"model\"]\r\n",
        "print(thisdict)"
      ],
      "execution_count": null,
      "outputs": [
        {
          "output_type": "stream",
          "text": [
            "{'brand': 'Ford', 'year': 1964}\n"
          ],
          "name": "stdout"
        }
      ]
    },
    {
      "cell_type": "code",
      "metadata": {
        "colab": {
          "base_uri": "https://localhost:8080/",
          "height": 35
        },
        "id": "UvOhfPugRH6Q",
        "outputId": "509d165d-259e-44b1-cfcf-5eee49086d6c"
      },
      "source": [
        "car={\r\n",
        "    \"brand\":\"Ford\",\r\n",
        "    \"model\":\"Mustang\",\r\n",
        "    \"year\":1964,\r\n",
        "}\r\n",
        "car.get(\"model\")"
      ],
      "execution_count": null,
      "outputs": [
        {
          "output_type": "execute_result",
          "data": {
            "application/vnd.google.colaboratory.intrinsic+json": {
              "type": "string"
            },
            "text/plain": [
              "'Mustang'"
            ]
          },
          "metadata": {
            "tags": []
          },
          "execution_count": 69
        }
      ]
    },
    {
      "cell_type": "code",
      "metadata": {
        "id": "ihguFW6YR5w6"
      },
      "source": [
        ""
      ],
      "execution_count": null,
      "outputs": []
    },
    {
      "cell_type": "code",
      "metadata": {
        "colab": {
          "base_uri": "https://localhost:8080/"
        },
        "id": "iqcMzaUORGwR",
        "outputId": "a3c1670e-7fe0-45a4-e2ef-cec8afab27ea"
      },
      "source": [
        "car={\r\n",
        "    \"brand\":\"Ford\",\r\n",
        "    \"model\":\"Mustang\",\r\n",
        "    \"year\":1964,\r\n",
        "}\r\n",
        "car[\"year\"]=2020\r\n",
        "print(car)"
      ],
      "execution_count": null,
      "outputs": [
        {
          "output_type": "stream",
          "text": [
            "{'brand': 'Ford', 'model': 'Mustang', 'year': 2020}\n"
          ],
          "name": "stdout"
        }
      ]
    },
    {
      "cell_type": "code",
      "metadata": {
        "colab": {
          "base_uri": "https://localhost:8080/"
        },
        "id": "ThTxlIUgSYcB",
        "outputId": "9ea6842e-c5e9-4260-d02b-bd9a72494682"
      },
      "source": [
        "car={\r\n",
        "    \"brand\":\"Ford\",\r\n",
        "    \"model\":\"Mustang\",\r\n",
        "    \"year\":1964,\r\n",
        "}\r\n",
        "del car[\"model\"]\r\n",
        "print(car)"
      ],
      "execution_count": null,
      "outputs": [
        {
          "output_type": "stream",
          "text": [
            "{'brand': 'Ford', 'year': 1964}\n"
          ],
          "name": "stdout"
        }
      ]
    },
    {
      "cell_type": "code",
      "metadata": {
        "colab": {
          "base_uri": "https://localhost:8080/"
        },
        "id": "lw6ZCKbEZTfH",
        "outputId": "cfba64e8-eaee-4639-884c-b4a4e515daaa"
      },
      "source": [
        "a=33\r\n",
        "b=200\r\n",
        "if b>a:\r\n",
        "  print(\"b is greater than a\")\r\n",
        "elif a==b:\r\n",
        "   print(\"a and b are equal\")"
      ],
      "execution_count": null,
      "outputs": [
        {
          "output_type": "stream",
          "text": [
            "b is greater than a\n"
          ],
          "name": "stdout"
        }
      ]
    },
    {
      "cell_type": "code",
      "metadata": {
        "colab": {
          "base_uri": "https://localhost:8080/"
        },
        "id": "2zhIsoJranjg",
        "outputId": "2403962d-16ab-4fd4-8383-2a6a2399f1a1"
      },
      "source": [
        "a=33\r\n",
        "b=33\r\n",
        "if b>a:\r\n",
        "  print(\"b is greater than a\")\r\n",
        "elif a==b:\r\n",
        "   print(\"a and b are equal\")\r\n",
        "else:\r\n",
        "  print(\"a is greater than b\")"
      ],
      "execution_count": null,
      "outputs": [
        {
          "output_type": "stream",
          "text": [
            "a and b are equal\n"
          ],
          "name": "stdout"
        }
      ]
    },
    {
      "cell_type": "code",
      "metadata": {
        "colab": {
          "base_uri": "https://localhost:8080/"
        },
        "id": "_9HWkSM-a45s",
        "outputId": "fab14d84-73dc-4825-bf79-2bb41327cdc5"
      },
      "source": [
        "a=50\r\n",
        "b=10\r\n",
        "if a>b:\r\n",
        "  print(\"Hello World\")"
      ],
      "execution_count": null,
      "outputs": [
        {
          "output_type": "stream",
          "text": [
            "Hello World\n"
          ],
          "name": "stdout"
        }
      ]
    },
    {
      "cell_type": "code",
      "metadata": {
        "colab": {
          "base_uri": "https://localhost:8080/"
        },
        "id": "4-dOykIEbc9e",
        "outputId": "cf67a6f2-270f-477d-f31b-96c0ef4e0ea1"
      },
      "source": [
        "a=int(input(\"Enter the first No:\\n\"))\r\n",
        "b=int(input(\"Enter the second No:\\n\"))\r\n",
        "c=int(input(\"Enter the third No:\\n\"))\r\n",
        "if b>a and b>c:\r\n",
        "  print(\"b is greater\")\r\n",
        "elif c>b and c>a:\r\n",
        "  print(\"C is greater\")\r\n",
        "else:\r\n",
        "  print(\"a is greater\")\r\n",
        "if a==b :\r\n",
        "    print(\"a nd b are equal\")\r\n",
        "elif b==c:\r\n",
        "  print(\"b an c are equal\")\r\n",
        "elif a==c:\r\n",
        "  print(\"a and c are equal\")\r\n",
        "elif a==b and b==c and a==c:\r\n",
        "  print(\" a,b and c are equal\")"
      ],
      "execution_count": null,
      "outputs": [
        {
          "output_type": "stream",
          "text": [
            "Enter the first No:\n",
            "1\n",
            "Enter the second No:\n",
            "2\n",
            "Enter the third No:\n",
            "1\n",
            "b is greater\n",
            "a and c are equal\n"
          ],
          "name": "stdout"
        }
      ]
    },
    {
      "cell_type": "code",
      "metadata": {
        "colab": {
          "base_uri": "https://localhost:8080/"
        },
        "id": "KhOYN4n2d1K_",
        "outputId": "e5f6eb26-b7ac-4d2e-b0ef-72cd4ea706d2"
      },
      "source": [
        "a=int(input(\"Enter the first No:\\n\"))\r\n",
        "b=int(input(\"Enter the second No:\\n\"))\r\n",
        "c=int(input(\"Enter the third No:\\n\"))\r\n",
        "if a>b:\r\n",
        "  print(\"a is greater\")\r\n",
        "elif b>c:\r\n",
        "  print(\"b is greater\")\r\n",
        "else:\r\n",
        "  print(\"c is greater\")"
      ],
      "execution_count": null,
      "outputs": [
        {
          "output_type": "stream",
          "text": [
            "Enter the first No:\n",
            "1\n",
            "Enter the second No:\n",
            "2\n",
            "Enter the third No:\n",
            "3\n",
            "c is greater\n"
          ],
          "name": "stdout"
        }
      ]
    },
    {
      "cell_type": "code",
      "metadata": {
        "id": "fZHw6ea_dGLH"
      },
      "source": [
        ""
      ],
      "execution_count": null,
      "outputs": []
    },
    {
      "cell_type": "code",
      "metadata": {
        "colab": {
          "base_uri": "https://localhost:8080/"
        },
        "id": "NixaBpBwfqtO",
        "outputId": "76355f95-01ad-460a-8bf9-35e33932f8d6"
      },
      "source": [
        "i=1\r\n",
        "while i<6:\r\n",
        "    print(i)\r\n",
        "    if i==3:\r\n",
        "      break\r\n",
        "    i+=1"
      ],
      "execution_count": null,
      "outputs": [
        {
          "output_type": "stream",
          "text": [
            "1\n",
            "2\n",
            "3\n"
          ],
          "name": "stdout"
        }
      ]
    },
    {
      "cell_type": "code",
      "metadata": {
        "id": "XmEpsvCggr4X"
      },
      "source": [
        ""
      ],
      "execution_count": null,
      "outputs": []
    },
    {
      "cell_type": "code",
      "metadata": {
        "colab": {
          "base_uri": "https://localhost:8080/"
        },
        "id": "UW-Q02WggysU",
        "outputId": "681498e1-5c1c-4cc1-85f8-40f4dec939c4"
      },
      "source": [
        "n=int(input(\"Enter the number\"))\r\n",
        "i=0\r\n",
        "while i<=n:\r\n",
        "  print(i)\r\n",
        "  if i==n:\r\n",
        "      break\r\n",
        "  i+=1\r\n",
        "  sum=i+1\r\n",
        "  print(\"The sum is\", +sum)"
      ],
      "execution_count": null,
      "outputs": [
        {
          "output_type": "stream",
          "text": [
            "Enter the number5\n",
            "0\n",
            "The sum is 2\n",
            "1\n",
            "The sum is 3\n",
            "2\n",
            "The sum is 4\n",
            "3\n",
            "The sum is 5\n",
            "4\n",
            "The sum is 6\n",
            "5\n"
          ],
          "name": "stdout"
        }
      ]
    },
    {
      "cell_type": "code",
      "metadata": {
        "colab": {
          "base_uri": "https://localhost:8080/"
        },
        "id": "dvw4OPYwmIeM",
        "outputId": "5ca295a7-8da1-49ea-f4ec-da27b669928e"
      },
      "source": [
        "fruits=[\"apple\",\"banan\",\"cherry\"]\r\n",
        "for x in fruits:\r\n",
        "  print(x)"
      ],
      "execution_count": null,
      "outputs": [
        {
          "output_type": "stream",
          "text": [
            "apple\n",
            "banan\n",
            "cherry\n"
          ],
          "name": "stdout"
        }
      ]
    },
    {
      "cell_type": "code",
      "metadata": {
        "colab": {
          "base_uri": "https://localhost:8080/"
        },
        "id": "QqkcdjyqmkEM",
        "outputId": "66428fea-546d-4919-a4f1-16ffc4840f5f"
      },
      "source": [
        "fruits=[\"apple\",\"banana\",\"cherry\"]\r\n",
        "for x in fruits:\r\n",
        "  print(x)\r\n",
        "  if x==\"banana\":\r\n",
        "    break"
      ],
      "execution_count": null,
      "outputs": [
        {
          "output_type": "stream",
          "text": [
            "apple\n",
            "banana\n"
          ],
          "name": "stdout"
        }
      ]
    },
    {
      "cell_type": "code",
      "metadata": {
        "colab": {
          "base_uri": "https://localhost:8080/"
        },
        "id": "SLrJiYu0m-r0",
        "outputId": "a2c0d8bc-df29-4590-f61f-941ab902cbdb"
      },
      "source": [
        "for x in range(6):\r\n",
        "  print(x)"
      ],
      "execution_count": null,
      "outputs": [
        {
          "output_type": "stream",
          "text": [
            "0\n",
            "1\n",
            "2\n",
            "3\n",
            "4\n",
            "5\n"
          ],
          "name": "stdout"
        }
      ]
    },
    {
      "cell_type": "code",
      "metadata": {
        "colab": {
          "base_uri": "https://localhost:8080/"
        },
        "id": "ytUqfnd9nF_E",
        "outputId": "b37dad74-9614-435f-9ad0-ff3abb9dd61c"
      },
      "source": [
        "for x in range(2,30,3):\r\n",
        "  print(x)"
      ],
      "execution_count": null,
      "outputs": [
        {
          "output_type": "stream",
          "text": [
            "2\n",
            "5\n",
            "8\n",
            "11\n",
            "14\n",
            "17\n",
            "20\n",
            "23\n",
            "26\n",
            "29\n"
          ],
          "name": "stdout"
        }
      ]
    },
    {
      "cell_type": "code",
      "metadata": {
        "colab": {
          "base_uri": "https://localhost:8080/"
        },
        "id": "Yw5ue6M9n2tU",
        "outputId": "7c485cd9-7df5-437e-f977-95e2dd9cfa7a"
      },
      "source": [
        "adj=[\"red\",\"big\",\"tasty\"]\r\n",
        "fruits=[\"apple\",\"banana\",\"cherry\"]\r\n",
        "for x in adj:\r\n",
        "  for y in fruits:\r\n",
        "    print(x,y)"
      ],
      "execution_count": null,
      "outputs": [
        {
          "output_type": "stream",
          "text": [
            "red apple\n",
            "red banana\n",
            "red cherry\n",
            "big apple\n",
            "big banana\n",
            "big cherry\n",
            "tasty apple\n",
            "tasty banana\n",
            "tasty cherry\n"
          ],
          "name": "stdout"
        }
      ]
    },
    {
      "cell_type": "markdown",
      "metadata": {
        "id": "07Y9_0XdDQ3k"
      },
      "source": [
        "#list using append"
      ]
    },
    {
      "cell_type": "code",
      "metadata": {
        "colab": {
          "base_uri": "https://localhost:8080/"
        },
        "id": "ApN6N_STl23N",
        "outputId": "efb5a665-6ee0-4612-9d97-638ac59b534d"
      },
      "source": [
        "odd=[]\r\n",
        "even=[]\r\n",
        "n=8\r\n",
        "for i in range (1,n+1):\r\n",
        "  if(i%2 ==1):\r\n",
        "    odd.append(i)\r\n",
        "  else:\r\n",
        "      even.append(i)\r\n",
        "print(odd)\r\n",
        "print(even)"
      ],
      "execution_count": null,
      "outputs": [
        {
          "output_type": "stream",
          "text": [
            "[1, 3, 5, 7]\n",
            "[2, 4, 6, 8]\n"
          ],
          "name": "stdout"
        }
      ]
    },
    {
      "cell_type": "markdown",
      "metadata": {
        "id": "3_5P8MAbDU3k"
      },
      "source": [
        ""
      ]
    },
    {
      "cell_type": "code",
      "metadata": {
        "colab": {
          "base_uri": "https://localhost:8080/"
        },
        "id": "Yrtsiv4zAv6F",
        "outputId": "ab2abf70-ace3-4d73-a018-5e2990b105fc"
      },
      "source": [
        "n=20\r\n",
        "List=[]\r\n",
        "for x in range(0,n+1, 1):\r\n",
        "  List.append(x)\r\n",
        "print(List)"
      ],
      "execution_count": null,
      "outputs": [
        {
          "output_type": "stream",
          "text": [
            "[0, 1, 2, 3, 4, 5, 6, 7, 8, 9, 10, 11, 12, 13, 14, 15, 16, 17, 18, 19, 20]\n"
          ],
          "name": "stdout"
        }
      ]
    },
    {
      "cell_type": "markdown",
      "metadata": {
        "id": "o7GgsbwwEzpp"
      },
      "source": [
        "#list using apend"
      ]
    },
    {
      "cell_type": "code",
      "metadata": {
        "colab": {
          "base_uri": "https://localhost:8080/"
        },
        "id": "oYXr5yAQDYmh",
        "outputId": "7592e706-7e62-4e94-916c-cd33d99c9162"
      },
      "source": [
        "even=[]\r\n",
        "n=10\r\n",
        "for i in range (0,n+1):\r\n",
        "  if(i%2 ==0):\r\n",
        "    even.append(i)\r\n",
        "print(even)"
      ],
      "execution_count": null,
      "outputs": [
        {
          "output_type": "stream",
          "text": [
            "[0, 2, 4, 6, 8, 10]\n"
          ],
          "name": "stdout"
        }
      ]
    },
    {
      "cell_type": "code",
      "metadata": {
        "colab": {
          "base_uri": "https://localhost:8080/"
        },
        "id": "Lw6bTGllEjDc",
        "outputId": "aad26881-3036-4f63-9cb8-b564d06bb043"
      },
      "source": [
        "evenList=[i for i in range(1,21) if i%2==0]\r\n",
        "print(evenList)"
      ],
      "execution_count": null,
      "outputs": [
        {
          "output_type": "stream",
          "text": [
            "[2, 4, 6, 8, 10, 12, 14, 16, 18, 20]\n"
          ],
          "name": "stdout"
        }
      ]
    },
    {
      "cell_type": "code",
      "metadata": {
        "colab": {
          "base_uri": "https://localhost:8080/"
        },
        "id": "tTOf8PUmE4Nj",
        "outputId": "73c25c67-3690-4ec9-9714-7ee82a06e587"
      },
      "source": [
        "oddList=[i*i for i in range(1,21,2) ]\r\n",
        "print(oddList)"
      ],
      "execution_count": null,
      "outputs": [
        {
          "output_type": "stream",
          "text": [
            "[1, 9, 25, 49, 81, 121, 169, 225, 289, 361]\n"
          ],
          "name": "stdout"
        }
      ]
    },
    {
      "cell_type": "code",
      "metadata": {
        "colab": {
          "base_uri": "https://localhost:8080/"
        },
        "id": "t_yGc0ByFa0s",
        "outputId": "42f01854-ed74-491c-82fd-5124b0366b5c"
      },
      "source": [
        "if -1:\r\n",
        "  print(\"Hello\")\r\n",
        "else:\r\n",
        "  print(\"Bye\")"
      ],
      "execution_count": null,
      "outputs": [
        {
          "output_type": "stream",
          "text": [
            "Hello\n"
          ],
          "name": "stdout"
        }
      ]
    },
    {
      "cell_type": "markdown",
      "metadata": {
        "id": "suU1Dy9vLxGr"
      },
      "source": [
        "#Prime Numbers"
      ]
    },
    {
      "cell_type": "code",
      "metadata": {
        "colab": {
          "base_uri": "https://localhost:8080/"
        },
        "id": "FpkoAsVUIykM",
        "outputId": "2727caa8-565d-4a95-9fe8-3420ab1dbfd8"
      },
      "source": [
        "lst=[]\r\n",
        "for i in range(2,21):\r\n",
        "    isPrime=True\r\n",
        "    for j in range(2,i):\r\n",
        "      if i%j==0:\r\n",
        "        isPrime=False\r\n",
        "    if isPrime: \r\n",
        "        lst.append(i)\r\n",
        "print(lst)\r\n"
      ],
      "execution_count": null,
      "outputs": [
        {
          "output_type": "stream",
          "text": [
            "[2, 3, 5, 7, 11, 13, 17, 19]\n"
          ],
          "name": "stdout"
        }
      ]
    },
    {
      "cell_type": "code",
      "metadata": {
        "colab": {
          "base_uri": "https://localhost:8080/"
        },
        "id": "8qUXj4JkL0oL",
        "outputId": "7a8f2df0-7365-42b6-cede-d0d1555602a2"
      },
      "source": [
        "primelist =[i for i in range(2,21)\r\n",
        "             if all(i%j!=0 for j in range(2,i))]\r\n",
        "print(primelist)"
      ],
      "execution_count": null,
      "outputs": [
        {
          "output_type": "stream",
          "text": [
            "[2, 3, 5, 7, 11, 13, 17, 19]\n"
          ],
          "name": "stdout"
        }
      ]
    },
    {
      "cell_type": "code",
      "metadata": {
        "colab": {
          "base_uri": "https://localhost:8080/"
        },
        "id": "6PGGqSfsOi7M",
        "outputId": "612a6a3b-8755-4bfa-ef24-ec4cebdd4f36"
      },
      "source": [
        "square= [i*i for i in range(1,26,1) if i*i<26]\r\n",
        "print(square)"
      ],
      "execution_count": null,
      "outputs": [
        {
          "output_type": "stream",
          "text": [
            "[1, 4, 9, 16, 25]\n"
          ],
          "name": "stdout"
        }
      ]
    },
    {
      "cell_type": "code",
      "metadata": {
        "colab": {
          "base_uri": "https://localhost:8080/"
        },
        "id": "YVblnP6ZX-1j",
        "outputId": "a66bb872-69b2-4c62-aca5-71142dd7c5ee"
      },
      "source": [
        " def my_fun(a,b):\r\n",
        "  print(a,b)\r\n",
        "my_fun(\"jack\",\"jill\")"
      ],
      "execution_count": null,
      "outputs": [
        {
          "output_type": "stream",
          "text": [
            "jack jill\n"
          ],
          "name": "stdout"
        }
      ]
    },
    {
      "cell_type": "code",
      "metadata": {
        "colab": {
          "base_uri": "https://localhost:8080/"
        },
        "id": "AgtRsCqxY5Gb",
        "outputId": "e167754b-0868-4d7e-a235-d9ca988eff04"
      },
      "source": [
        " def my_fun(a,b=\"jill\"):\r\n",
        "  print(a,b)\r\n",
        "my_fun(\"jack\")"
      ],
      "execution_count": null,
      "outputs": [
        {
          "output_type": "stream",
          "text": [
            "jack jill\n"
          ],
          "name": "stdout"
        }
      ]
    },
    {
      "cell_type": "code",
      "metadata": {
        "colab": {
          "base_uri": "https://localhost:8080/"
        },
        "id": "-fakLh32c09M",
        "outputId": "976f6837-43d6-47d5-9f45-d31174e1086c"
      },
      "source": [
        "#lst=[\"vaibhav\",\"prinson\",\"varshith\"]\r\n",
        "Name=input()\r\n",
        "physics=int(input(\"Enter The Number\"))\r\n",
        "chemistry=int(input(\"Enter the Number\"))\r\n",
        "print(chemistry,physics)\r\n",
        "marks=chemistry+physics\r\n",
        "print(Name)\r\n",
        "print(\"Total marks is\", +marks)"
      ],
      "execution_count": null,
      "outputs": [
        {
          "output_type": "stream",
          "text": [
            "Vaibhav\n",
            "Enter The Number98\n",
            "Enter the Number99\n",
            "99 98\n",
            "Vaibhav\n",
            "Total marks is 197\n"
          ],
          "name": "stdout"
        }
      ]
    },
    {
      "cell_type": "code",
      "metadata": {
        "colab": {
          "base_uri": "https://localhost:8080/"
        },
        "id": "s2cTd22fZJgT",
        "outputId": "cee07f65-7499-4118-daab-0364b5e333c8"
      },
      "source": [
        "Name=input()\r\n",
        "physics=int(input(\"Enter The Number\"))\r\n",
        "chemistry=int(input(\"Enter the Number\"))\r\n",
        "print(chemistry,physics)\r\n",
        "marks=chemistry+physics\r\n",
        "print(Name)\r\n",
        "print(\"Total marks is\", +marks)"
      ],
      "execution_count": null,
      "outputs": [
        {
          "output_type": "stream",
          "text": [
            "Prinson\n",
            "Enter The Number56\n",
            "Enter the Number66\n",
            "66 56\n",
            "Prinson\n",
            "Total marks is 122\n"
          ],
          "name": "stdout"
        }
      ]
    },
    {
      "cell_type": "code",
      "metadata": {
        "colab": {
          "base_uri": "https://localhost:8080/"
        },
        "id": "rDCw2GKjfUpO",
        "outputId": "30a039ea-ecfa-4579-c38f-1ae916cae5df"
      },
      "source": [
        "Name=input()\r\n",
        "physics=int(input(\"Enter The Number\"))\r\n",
        "chemistry=int(input(\"Enter the Number\"))\r\n",
        "print(chemistry,physics)\r\n",
        "marks=chemistry+physics\r\n",
        "print(Name)\r\n",
        "print(\"Total marks is\", +marks)"
      ],
      "execution_count": null,
      "outputs": [
        {
          "output_type": "stream",
          "text": [
            "Varshith\n",
            "Enter The Number95\n",
            "Enter the Number98\n",
            "98 95\n",
            "Varshith\n",
            "Total marks is 193\n"
          ],
          "name": "stdout"
        }
      ]
    },
    {
      "cell_type": "code",
      "metadata": {
        "colab": {
          "base_uri": "https://localhost:8080/"
        },
        "id": "hqL_Z1AxfcWb",
        "outputId": "fa8598b8-d388-459b-b09c-af0db7584fa8"
      },
      "source": [
        "def myfun(a,b):\r\n",
        "  print(\"Your name is\" +a)\r\n",
        "  print(\"Your marks is\" +b)\r\n",
        "myfun(\" Vaibhav\",\" 10\")"
      ],
      "execution_count": null,
      "outputs": [
        {
          "output_type": "stream",
          "text": [
            "Your name is Vaibhav\n",
            "Your marks is 10\n"
          ],
          "name": "stdout"
        }
      ]
    },
    {
      "cell_type": "code",
      "metadata": {
        "id": "i2w3E2jigaVc"
      },
      "source": [
        "\r\n"
      ],
      "execution_count": null,
      "outputs": []
    }
  ]
}