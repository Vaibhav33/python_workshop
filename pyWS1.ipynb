{
  "nbformat": 4,
  "nbformat_minor": 0,
  "metadata": {
    "colab": {
      "name": "pyWS1.ipynb",
      "provenance": [],
      "authorship_tag": "ABX9TyM+stegPXzaHAfEbCRLVDsL",
      "include_colab_link": true
    },
    "kernelspec": {
      "name": "python3",
      "display_name": "Python 3"
    }
  },
  "cells": [
    {
      "cell_type": "markdown",
      "metadata": {
        "id": "view-in-github",
        "colab_type": "text"
      },
      "source": [
        "<a href=\"https://colab.research.google.com/github/Vaibhav33/python_workshop/blob/main/pyWS1.ipynb\" target=\"_parent\"><img src=\"https://colab.research.google.com/assets/colab-badge.svg\" alt=\"Open In Colab\"/></a>"
      ]
    },
    {
      "cell_type": "markdown",
      "metadata": {
        "id": "_CXAmTw03dzc"
      },
      "source": [
        "Hello world program\r\n"
      ]
    },
    {
      "cell_type": "code",
      "metadata": {
        "colab": {
          "base_uri": "https://localhost:8080/"
        },
        "id": "CODg9gk62YvM",
        "outputId": "bc4bcf5f-1671-4e65-a901-f0dbab78f1d2"
      },
      "source": [
        "x=5\r\n",
        "x = \"Vaibhav\"\r\n",
        "print(x)"
      ],
      "execution_count": 12,
      "outputs": [
        {
          "output_type": "stream",
          "text": [
            "Vaibhav\n"
          ],
          "name": "stdout"
        }
      ]
    },
    {
      "cell_type": "code",
      "metadata": {
        "colab": {
          "base_uri": "https://localhost:8080/"
        },
        "id": "Zom8JSDf7vu1",
        "outputId": "d0237e40-4b22-4afd-936d-6c3ea451ad82"
      },
      "source": [
        "x,y,z=\"Vaibhav\",\"Prinson\",\"Varshit\"\r\n",
        "print(x)\r\n",
        "print(y)\r\n",
        "print(z)\r\n"
      ],
      "execution_count": 18,
      "outputs": [
        {
          "output_type": "stream",
          "text": [
            "Vaibhav\n",
            "Prinson\n",
            "Varshit\n"
          ],
          "name": "stdout"
        }
      ]
    },
    {
      "cell_type": "code",
      "metadata": {
        "colab": {
          "base_uri": "https://localhost:8080/"
        },
        "id": "kD2vceTX9oM8",
        "outputId": "9932ddbb-45e4-4589-8a00-d455b54a9b5f"
      },
      "source": [
        "x,y,z=\"Vaibhav\",\"3\",\"8.45\"\r\n",
        "print(x)\r\n",
        "print(y)\r\n",
        "print(z)"
      ],
      "execution_count": 19,
      "outputs": [
        {
          "output_type": "stream",
          "text": [
            "Vaibhav\n",
            "3\n",
            "8.45\n"
          ],
          "name": "stdout"
        }
      ]
    },
    {
      "cell_type": "markdown",
      "metadata": {
        "id": "XeLiIwA5Be4L"
      },
      "source": [
        "#Exercise 1"
      ]
    },
    {
      "cell_type": "code",
      "metadata": {
        "colab": {
          "base_uri": "https://localhost:8080/"
        },
        "id": "9y7GfNM_-eY7",
        "outputId": "7790dbfd-afda-49c7-87fe-3dcc53fec277"
      },
      "source": [
        "carname=\"volvo\"\r\n",
        "print(carname)"
      ],
      "execution_count": 22,
      "outputs": [
        {
          "output_type": "stream",
          "text": [
            "volvo\n"
          ],
          "name": "stdout"
        }
      ]
    },
    {
      "cell_type": "markdown",
      "metadata": {
        "id": "iF2uPN_sBnBj"
      },
      "source": [
        "#Exercise 2\r\n"
      ]
    },
    {
      "cell_type": "code",
      "metadata": {
        "colab": {
          "base_uri": "https://localhost:8080/"
        },
        "id": "q1nIIiRGBNfs",
        "outputId": "af9c4c3f-489a-491a-afea-d987ebd0079f"
      },
      "source": [
        "x=\"50\"\r\n",
        "print(x)\r\n",
        "print(type(x))"
      ],
      "execution_count": 25,
      "outputs": [
        {
          "output_type": "stream",
          "text": [
            "50\n",
            "<class 'str'>\n"
          ],
          "name": "stdout"
        }
      ]
    },
    {
      "cell_type": "markdown",
      "metadata": {
        "id": "_ep07DiHEAmR"
      },
      "source": [
        "#Exercise 3"
      ]
    },
    {
      "cell_type": "code",
      "metadata": {
        "colab": {
          "base_uri": "https://localhost:8080/"
        },
        "id": "ba747qSFCrZ0",
        "outputId": "f831f4ce-5fd1-48eb-ed57-88da7b5c5804"
      },
      "source": [
        "x,y=5,10\r\n",
        "sum=x+y\r\n",
        "print(\"the sum is\",sum)"
      ],
      "execution_count": 30,
      "outputs": [
        {
          "output_type": "stream",
          "text": [
            "the sum is 15\n"
          ],
          "name": "stdout"
        }
      ]
    },
    {
      "cell_type": "code",
      "metadata": {
        "id": "dUVj-_qiDkiM"
      },
      "source": [
        ""
      ],
      "execution_count": null,
      "outputs": []
    },
    {
      "cell_type": "markdown",
      "metadata": {
        "id": "yYhJMPh0EY2Z"
      },
      "source": [
        "#Exercise 4"
      ]
    },
    {
      "cell_type": "code",
      "metadata": {
        "colab": {
          "base_uri": "https://localhost:8080/"
        },
        "id": "YBoRYlzwESVU",
        "outputId": "77f6c65d-6e57-440b-f634-e2e33be6e75b"
      },
      "source": [
        "x,y=11,17\r\n",
        "z=x+y\r\n",
        "print(z)\r\n"
      ],
      "execution_count": 31,
      "outputs": [
        {
          "output_type": "stream",
          "text": [
            "28\n"
          ],
          "name": "stdout"
        }
      ]
    },
    {
      "cell_type": "code",
      "metadata": {
        "colab": {
          "base_uri": "https://localhost:8080/"
        },
        "id": "YgEvOcn0QDE8",
        "outputId": "765c212a-d162-48e8-fa95-064fa660c32b"
      },
      "source": [
        "x1= \"Hello World\"\r\n",
        "x2=10\r\n",
        "x3=10.1\r\n",
        "x4=[\"apple\",\"banana\",\"cherry\"]\r\n",
        "x5=(\"apple\",\"banana\",\"cherry\")\r\n",
        "x6= range (6)\r\n",
        "x7 ={\"name\":\"Johnwick\",\"age\" :36}\r\n",
        "x8={\"apple\",\"banana\",\"cherry\"}\r\n",
        "x9=True\r\n",
        "print(type(x1))\r\n",
        "print(type(x2))\r\n",
        "print(type(x3))\r\n",
        "print(type(x4))\r\n",
        "print(type(x5))\r\n",
        "print(type(x6))\r\n",
        "print(type(x7))\r\n",
        "print(type(x8))\r\n",
        "print(type(x9))\r\n",
        "\r\n"
      ],
      "execution_count": 37,
      "outputs": [
        {
          "output_type": "stream",
          "text": [
            "<class 'str'>\n",
            "<class 'int'>\n",
            "<class 'float'>\n",
            "<class 'list'>\n",
            "<class 'tuple'>\n",
            "<class 'range'>\n",
            "<class 'dict'>\n",
            "<class 'set'>\n",
            "<class 'bool'>\n"
          ],
          "name": "stdout"
        }
      ]
    },
    {
      "cell_type": "code",
      "metadata": {
        "colab": {
          "base_uri": "https://localhost:8080/"
        },
        "id": "y7p83PHPTyVd",
        "outputId": "0421e630-c511-49fd-dbac-7571d5a4597f"
      },
      "source": [
        "x=1.10\r\n",
        "y=1.0\r\n",
        "z=-34.78\r\n",
        "print(type(x))\r\n",
        "print(type(y))\r\n",
        "print(type(z))"
      ],
      "execution_count": 38,
      "outputs": [
        {
          "output_type": "stream",
          "text": [
            "<class 'float'>\n",
            "<class 'float'>\n",
            "<class 'float'>\n"
          ],
          "name": "stdout"
        }
      ]
    },
    {
      "cell_type": "code",
      "metadata": {
        "colab": {
          "base_uri": "https://localhost:8080/"
        },
        "id": "v-SyPMLNV8WL",
        "outputId": "63d2b505-ad5a-4cb9-edac-7fa9a9ee4f63"
      },
      "source": [
        "x= range(1,5,2)\r\n",
        "print(list(x))"
      ],
      "execution_count": 40,
      "outputs": [
        {
          "output_type": "stream",
          "text": [
            "[1, 3]\n"
          ],
          "name": "stdout"
        }
      ]
    },
    {
      "cell_type": "code",
      "metadata": {
        "colab": {
          "base_uri": "https://localhost:8080/"
        },
        "id": "rp8eC1EEXCH8",
        "outputId": "4dfa649a-628b-47c8-a5ae-c159b82b7a03"
      },
      "source": [
        "x ={1,2,3,2}\r\n",
        "print(x)"
      ],
      "execution_count": 41,
      "outputs": [
        {
          "output_type": "stream",
          "text": [
            "{1, 2, 3}\n"
          ],
          "name": "stdout"
        }
      ]
    },
    {
      "cell_type": "code",
      "metadata": {
        "colab": {
          "base_uri": "https://localhost:8080/"
        },
        "id": "IkqDHvnvYUkl",
        "outputId": "8d092988-29b5-4efd-8c30-5af78e1fe36a"
      },
      "source": [
        "x=1;\r\n",
        "y=2.8\r\n",
        "z=1j\r\n",
        "\r\n",
        "a=float(x)\r\n",
        "\r\n",
        "b=int(y)\r\n",
        "\r\n",
        "c=complex(z)\r\n",
        "print(a)\r\n",
        "print(b)\r\n",
        "print(z)"
      ],
      "execution_count": 43,
      "outputs": [
        {
          "output_type": "stream",
          "text": [
            "1.0\n",
            "2\n",
            "1j\n"
          ],
          "name": "stdout"
        }
      ]
    },
    {
      "cell_type": "code",
      "metadata": {
        "colab": {
          "base_uri": "https://localhost:8080/"
        },
        "id": "6Gs0wV_FZfQ0",
        "outputId": "2859bce5-bd17-49a3-f644-5e20434778af"
      },
      "source": [
        "   x=int(1)\r\n",
        "   y=int(2.8)\r\n",
        "   z=int(\"3\")\r\n",
        "   print(x,y,z)\r\n",
        "\r\n",
        "   a=float(1)\r\n",
        "   b=float(2.5)\r\n",
        "   c=float(\"3\")\r\n",
        "   d=float(\"4.2\")\r\n",
        "   print(a,b,c,d)\r\n",
        "\r\n",
        "   e=str(\"n1\")\r\n",
        "   f=str(2)\r\n",
        "   g=str(3.0)\r\n",
        "   print(e,f,g)\r\n",
        "\r\n",
        "  "
      ],
      "execution_count": 50,
      "outputs": [
        {
          "output_type": "stream",
          "text": [
            "1 2 3\n",
            "1.0 2.5 3.0 4.2\n",
            "n1 2 3.0\n"
          ],
          "name": "stdout"
        }
      ]
    },
    {
      "cell_type": "code",
      "metadata": {
        "colab": {
          "base_uri": "https://localhost:8080/"
        },
        "id": "2YIZ0Ldcb_Z0",
        "outputId": "797a239a-ba28-4459-d0df-99ebd9067cd2"
      },
      "source": [
        "x,y=\"2\",\"3\"\r\n",
        "c=x+y\r\n",
        "print(\"x+y=\" +c)"
      ],
      "execution_count": 53,
      "outputs": [
        {
          "output_type": "stream",
          "text": [
            "x+y=23\n"
          ],
          "name": "stdout"
        }
      ]
    },
    {
      "cell_type": "code",
      "metadata": {
        "colab": {
          "base_uri": "https://localhost:8080/"
        },
        "id": "p8UIQB0udnB0",
        "outputId": "d56a8cf0-05b8-4c46-947b-5cf607052c8d"
      },
      "source": [
        "name= \"Vaibhav\"\r\n",
        "print(name)\r\n",
        "print(type(name))"
      ],
      "execution_count": 55,
      "outputs": [
        {
          "output_type": "stream",
          "text": [
            "Vaibhav\n",
            "<class 'str'>\n"
          ],
          "name": "stdout"
        }
      ]
    },
    {
      "cell_type": "code",
      "metadata": {
        "colab": {
          "base_uri": "https://localhost:8080/"
        },
        "id": "Y8Tq0HEBbgn0",
        "outputId": "c908dcaa-da1e-49ad-9af1-ffc50c7ba06b"
      },
      "source": [
        "name=\"Hello World\"\r\n",
        "print(name[0])\r\n",
        "print(len(name))"
      ],
      "execution_count": 63,
      "outputs": [
        {
          "output_type": "stream",
          "text": [
            "H\n",
            "11\n"
          ],
          "name": "stdout"
        }
      ]
    },
    {
      "cell_type": "code",
      "metadata": {
        "colab": {
          "base_uri": "https://localhost:8080/"
        },
        "id": "XrMcYpopfdTt",
        "outputId": "345f82b6-4a4a-48fb-e559-9790a43e86fb"
      },
      "source": [
        "txt=\"things in life are free !!!\"\r\n",
        "print(\"\" in txt)"
      ],
      "execution_count": 65,
      "outputs": [
        {
          "output_type": "stream",
          "text": [
            "True\n"
          ],
          "name": "stdout"
        }
      ]
    },
    {
      "cell_type": "code",
      "metadata": {
        "colab": {
          "base_uri": "https://localhost:8080/"
        },
        "id": "fAMK1Q9NgShk",
        "outputId": "12ba4549-9df1-4751-9dec-4f972cfc322f"
      },
      "source": [
        "txt=\"things in life are free !!!\"\r\n",
        "print(txt[2:5])\r\n",
        "print(txt[2:])\r\n",
        "print(txt.upper())"
      ],
      "execution_count": 72,
      "outputs": [
        {
          "output_type": "stream",
          "text": [
            "ing\n",
            "ings in life are free !!!\n",
            "THINGS IN LIFE ARE FREE !!!\n"
          ],
          "name": "stdout"
        }
      ]
    },
    {
      "cell_type": "code",
      "metadata": {
        "colab": {
          "base_uri": "https://localhost:8080/"
        },
        "id": "62zuAoiOhKiL",
        "outputId": "3b07dfba-ed6f-41ed-b87a-c86da2e91090"
      },
      "source": [
        "a=\"Hello \"\r\n",
        "b=\"World\"\r\n",
        "print(a+b)"
      ],
      "execution_count": 75,
      "outputs": [
        {
          "output_type": "stream",
          "text": [
            "Hello World\n"
          ],
          "name": "stdout"
        }
      ]
    },
    {
      "cell_type": "code",
      "metadata": {
        "colab": {
          "base_uri": "https://localhost:8080/"
        },
        "id": "2EOFJuJhjAu2",
        "outputId": "1598be98-bd77-41c5-8169-b0383d04f96c"
      },
      "source": [
        "age=40\r\n",
        "txt = \"My name is John, I am {}\"\r\n",
        "print(txt.format(age))"
      ],
      "execution_count": 78,
      "outputs": [
        {
          "output_type": "stream",
          "text": [
            "My name isJohn, I am 40\n"
          ],
          "name": "stdout"
        }
      ]
    },
    {
      "cell_type": "code",
      "metadata": {
        "colab": {
          "base_uri": "https://localhost:8080/"
        },
        "id": "1zGpgSnck1DV",
        "outputId": "bca8db7b-5330-45e8-d887-2ee0b21a10b3"
      },
      "source": [
        "txt =\"vaibhav\"\r\n",
        "print (txt.capitalize())\r\n",
        "print (txt.isalpha())"
      ],
      "execution_count": 89,
      "outputs": [
        {
          "output_type": "stream",
          "text": [
            "Vaibhav\n",
            "True\n"
          ],
          "name": "stdout"
        }
      ]
    },
    {
      "cell_type": "markdown",
      "metadata": {
        "id": "4fibPNDq2oE3"
      },
      "source": [
        ""
      ]
    },
    {
      "cell_type": "code",
      "metadata": {
        "colab": {
          "base_uri": "https://localhost:8080/"
        },
        "id": "ZOU0l9C0161e",
        "outputId": "b7a64304-371c-4c32-b87c-fa45c678a8b1"
      },
      "source": [
        "name=\"alvas\"\r\n",
        "print(len(name))\r\n",
        "print(name.upper())\r\n",
        "c=name+b\r\n",
        "b=\"college\"\r\n",
        "print(\"\"+name+b)\r\n",
        "txt=\"alvas{}\"\r\n",
        "print(txt.format(b))\r\n",
        "print(c.isdigit())\r\n",
        "print(c[0:4])\r\n",
        "\r\n"
      ],
      "execution_count": 106,
      "outputs": [
        {
          "output_type": "stream",
          "text": [
            "5\n",
            "ALVAS\n",
            "alvascollege\n",
            "alvascollege\n",
            "False\n",
            "alva\n"
          ],
          "name": "stdout"
        }
      ]
    },
    {
      "cell_type": "code",
      "metadata": {
        "colab": {
          "base_uri": "https://localhost:8080/"
        },
        "id": "FEG2MjF87tmn",
        "outputId": "8716d3a8-4d1e-4672-b4ce-25f520cc6e70"
      },
      "source": [
        "x=5\r\n",
        "x+=3 \r\n",
        "print(x)"
      ],
      "execution_count": 110,
      "outputs": [
        {
          "output_type": "stream",
          "text": [
            "8\n"
          ],
          "name": "stdout"
        }
      ]
    },
    {
      "cell_type": "code",
      "metadata": {
        "colab": {
          "base_uri": "https://localhost:8080/"
        },
        "id": "D23wy8nP8Nhl",
        "outputId": "d5bc4329-5d7c-4a3f-f426-67b21d6b3907"
      },
      "source": [
        "x=5\r\n",
        "y=3\r\n",
        "print(x==y)\r\n",
        "\r\n"
      ],
      "execution_count": 115,
      "outputs": [
        {
          "output_type": "stream",
          "text": [
            "False\n"
          ],
          "name": "stdout"
        }
      ]
    },
    {
      "cell_type": "code",
      "metadata": {
        "colab": {
          "base_uri": "https://localhost:8080/"
        },
        "id": "5sDpyQPv8ojd",
        "outputId": "832bcc39-be15-41df-ace4-7a9993fbab69"
      },
      "source": [
        "x=5\r\n",
        "y=5\r\n",
        "print(x==y)\r\n",
        "\r\n"
      ],
      "execution_count": 116,
      "outputs": [
        {
          "output_type": "stream",
          "text": [
            "True\n"
          ],
          "name": "stdout"
        }
      ]
    },
    {
      "cell_type": "code",
      "metadata": {
        "colab": {
          "base_uri": "https://localhost:8080/"
        },
        "id": "a-HU540l9fHl",
        "outputId": "0a249392-6556-4de9-b983-d09467ab00f8"
      },
      "source": [
        "print(3>0 and 3<0)\r\n",
        "print(3>0 and -1<0)\r\n",
        "print(not(3>0 and 3<0))"
      ],
      "execution_count": 119,
      "outputs": [
        {
          "output_type": "stream",
          "text": [
            "False\n",
            "True\n",
            "True\n"
          ],
          "name": "stdout"
        }
      ]
    },
    {
      "cell_type": "code",
      "metadata": {
        "colab": {
          "base_uri": "https://localhost:8080/"
        },
        "id": "OLpxXs9u-rK2",
        "outputId": "4f6d8a0f-29aa-4f34-f56c-05071a1f2418"
      },
      "source": [
        "a=int(input(\"Enter the first Number\\n\"))\r\n",
        "b=int(input(\"Enter the second Number\\n\"))\r\n",
        "c=a+b\r\n",
        "d=a-b\r\n",
        "e=a*b\r\n",
        "f=a/b\r\n",
        "print(\"The sum is\",c)\r\n",
        "print(\"The subtraction is\",d)\r\n",
        "print(\"The multiplication is\",e)\r\n",
        "print(\"The division is\",f)"
      ],
      "execution_count": 131,
      "outputs": [
        {
          "output_type": "stream",
          "text": [
            "Enter the first Number\n",
            "1\n",
            "Enter the second Number\n",
            "2\n",
            "The sum is 3\n",
            "The subtraction is -1\n",
            "The multiplication is 2\n",
            "The division is 0.5\n"
          ],
          "name": "stdout"
        }
      ]
    },
    {
      "cell_type": "code",
      "metadata": {
        "colab": {
          "base_uri": "https://localhost:8080/"
        },
        "id": "wmSMSbF6Eg8V",
        "outputId": "688bbeac-4073-4875-a272-bf210dd0a85f"
      },
      "source": [
        "thislist=[\"vaibhav\",\"prinson\",\"varshith\"]\r\n",
        "print(thislist)"
      ],
      "execution_count": 139,
      "outputs": [
        {
          "output_type": "stream",
          "text": [
            "['vaibhav', 'prinson', 'varshith']\n"
          ],
          "name": "stdout"
        }
      ]
    },
    {
      "cell_type": "code",
      "metadata": {
        "colab": {
          "base_uri": "https://localhost:8080/"
        },
        "id": "ptih-6zaFXFV",
        "outputId": "519a0791-dadf-45f4-8ad6-c0ebfbef8ca4"
      },
      "source": [
        "L=list((\"cse\",\"ece\",\"ise\"))\r\n",
        "print(L)"
      ],
      "execution_count": 140,
      "outputs": [
        {
          "output_type": "stream",
          "text": [
            "['cse', 'ece', 'ise']\n"
          ],
          "name": "stdout"
        }
      ]
    },
    {
      "cell_type": "code",
      "metadata": {
        "id": "d4jg35V7GQxV"
      },
      "source": [
        ""
      ],
      "execution_count": null,
      "outputs": []
    },
    {
      "cell_type": "code",
      "metadata": {
        "colab": {
          "base_uri": "https://localhost:8080/"
        },
        "id": "0AfNtft0GRXX",
        "outputId": "0de8e1e9-7cbf-45fe-faf9-5ef5565106d1"
      },
      "source": [
        "a=list({\"cse\",\"ece\",\"ise\"})\r\n",
        "print(a[1])"
      ],
      "execution_count": 148,
      "outputs": [
        {
          "output_type": "stream",
          "text": [
            "ise\n"
          ],
          "name": "stdout"
        }
      ]
    },
    {
      "cell_type": "code",
      "metadata": {
        "colab": {
          "base_uri": "https://localhost:8080/"
        },
        "id": "JJF2jj6VHaQu",
        "outputId": "8282c820-a1cc-474c-e197-407949e244eb"
      },
      "source": [
        "L=['cse','ece','ise','mec','civil','AI']\r\n",
        "print([L[:3]])"
      ],
      "execution_count": 152,
      "outputs": [
        {
          "output_type": "stream",
          "text": [
            "[['cse', 'ece', 'ise']]\n"
          ],
          "name": "stdout"
        }
      ]
    },
    {
      "cell_type": "code",
      "metadata": {
        "colab": {
          "base_uri": "https://localhost:8080/"
        },
        "id": "UZCY4AijIwzH",
        "outputId": "51364cd2-5be4-4cd9-cab1-dd015a2d6e3a"
      },
      "source": [
        "thislist=[\"apple\",\"banana\",\"cherry\"]\r\n",
        "print(len(thislist))\r\n",
        "thislist.append(\"orange\")\r\n",
        "print(thislist)\r\n",
        "print(len(thislist))"
      ],
      "execution_count": 156,
      "outputs": [
        {
          "output_type": "stream",
          "text": [
            "3\n",
            "['apple', 'banana', 'cherry', 'orange']\n",
            "4\n"
          ],
          "name": "stdout"
        }
      ]
    },
    {
      "cell_type": "code",
      "metadata": {
        "colab": {
          "base_uri": "https://localhost:8080/"
        },
        "id": "KFGDmkeBKRUd",
        "outputId": "a0b62980-c8b2-4528-a3e0-75d124638a96"
      },
      "source": [
        "thislist=[\"apple\",\"banana\",\"cherry\"]\r\n",
        "tropical=[\"mango\",\"pineapple\",\"papaya\"]\r\n",
        "thislist.extend(tropical)\r\n",
        "print(thislist)"
      ],
      "execution_count": 157,
      "outputs": [
        {
          "output_type": "stream",
          "text": [
            "['apple', 'banana', 'cherry', 'mangp', 'pineapple', 'papaya']\n"
          ],
          "name": "stdout"
        }
      ]
    },
    {
      "cell_type": "code",
      "metadata": {
        "colab": {
          "base_uri": "https://localhost:8080/"
        },
        "id": "lmvzPc4ZK699",
        "outputId": "a4054626-85ce-4bf8-d58a-0540a009caff"
      },
      "source": [
        "thislist=[\"apple\",\"banana\",\"cherry\"]\r\n",
        "tropical=[\"mango\",\"pineapple\",\"papaya\"]\r\n",
        "newlist=thislist+tropical\r\n",
        "print(newlist)"
      ],
      "execution_count": 158,
      "outputs": [
        {
          "output_type": "stream",
          "text": [
            "['apple', 'banana', 'cherry', 'mango', 'pineapple', 'papaya']\n"
          ],
          "name": "stdout"
        }
      ]
    },
    {
      "cell_type": "code",
      "metadata": {
        "colab": {
          "base_uri": "https://localhost:8080/"
        },
        "id": "7q1hrR-4Lfke",
        "outputId": "df735557-b798-45d8-cc86-46831fd08aba"
      },
      "source": [
        "thislist=[\"apple\",\"banana\",\"cherry\"]\r\n",
        "thislist.pop(1)\r\n",
        "print(thislist)\r\n",
        "thislist.pop()\r\n",
        "print(thislist)"
      ],
      "execution_count": 161,
      "outputs": [
        {
          "output_type": "stream",
          "text": [
            "['apple', 'cherry']\n",
            "['apple']\n"
          ],
          "name": "stdout"
        }
      ]
    },
    {
      "cell_type": "markdown",
      "metadata": {
        "id": "YJfa_scKNx34"
      },
      "source": [
        ""
      ]
    },
    {
      "cell_type": "code",
      "metadata": {
        "colab": {
          "base_uri": "https://localhost:8080/"
        },
        "id": "3O4sq7sHMikO",
        "outputId": "e7ce3c7d-cb41-491d-f922-efabae2be45b"
      },
      "source": [
        "newlist=['Harsh','Pratik','Bob','Dhruv']\r\n",
        "print(newlist[1])"
      ],
      "execution_count": 171,
      "outputs": [
        {
          "output_type": "stream",
          "text": [
            "Pratik\n"
          ],
          "name": "stdout"
        }
      ]
    },
    {
      "cell_type": "code",
      "metadata": {
        "colab": {
          "base_uri": "https://localhost:8080/"
        },
        "id": "1effkh5LNeV4",
        "outputId": "df6b605e-ad4b-4456-8d5a-e5f7b1996d02"
      },
      "source": [
        "animal=['cat','dog','fish','goat']\r\n",
        "age=[1,2,2,6]\r\n",
        "c=animal+age\r\n",
        "print(c)\r\n",
        "animal.extend(age)\r\n",
        "print(animal)"
      ],
      "execution_count": 174,
      "outputs": [
        {
          "output_type": "stream",
          "text": [
            "['cat', 'dog', 'fish', 'goat', 1, 2, 2, 6]\n",
            "['cat', 'dog', 'fish', 'goat', 1, 2, 2, 6]\n"
          ],
          "name": "stdout"
        }
      ]
    },
    {
      "cell_type": "code",
      "metadata": {
        "colab": {
          "base_uri": "https://localhost:8080/"
        },
        "id": "q1fOFOpxOj3Y",
        "outputId": "aa1deded-7c13-47ad-b92b-aa212374c83d"
      },
      "source": [
        "age=[1,2,3,6]\r\n",
        "print(age)\r\n",
        "age.append(9)\r\n",
        "print(age)\r\n",
        "age.pop(2)\r\n",
        "print(age)\r\n",
        "print(age.count(6))\r\n"
      ],
      "execution_count": 183,
      "outputs": [
        {
          "output_type": "stream",
          "text": [
            "[1, 2, 3, 6]\n",
            "[1, 2, 3, 6, 9]\n",
            "[1, 2, 6, 9]\n",
            "1\n"
          ],
          "name": "stdout"
        }
      ]
    },
    {
      "cell_type": "code",
      "metadata": {
        "colab": {
          "base_uri": "https://localhost:8080/"
        },
        "id": "oHLqlBglRM0F",
        "outputId": "bf7380f4-2eaf-46e2-fc38-bb8ed036ccb8"
      },
      "source": [
        "thistuple=(\"apple\",\"banana\",\"cherry\")\r\n",
        "print(thistuple)"
      ],
      "execution_count": 186,
      "outputs": [
        {
          "output_type": "stream",
          "text": [
            "('apple', 'banana', 'cherry')\n"
          ],
          "name": "stdout"
        }
      ]
    },
    {
      "cell_type": "code",
      "metadata": {
        "colab": {
          "base_uri": "https://localhost:8080/"
        },
        "id": "Jo4GmOQNSvcV",
        "outputId": "ae76d853-d35c-4b1c-977f-6a47ec285759"
      },
      "source": [
        "x=(\"apple\",\"banana\",\"cherry\")\r\n",
        "y=list(x)\r\n",
        "y[1]=\"kiwi\"\r\n",
        "x=tuple(y)\r\n",
        "print(x)"
      ],
      "execution_count": 190,
      "outputs": [
        {
          "output_type": "stream",
          "text": [
            "('apple', 'kiwi', 'cherry')\n"
          ],
          "name": "stdout"
        }
      ]
    },
    {
      "cell_type": "code",
      "metadata": {
        "colab": {
          "base_uri": "https://localhost:8080/"
        },
        "id": "3cjsutYBTg9F",
        "outputId": "f89c332b-4f51-4e3d-bb8b-6f627fe6c631"
      },
      "source": [
        "fruits=(\"apple\",\"banana\",\"cherry\")\r\n",
        "print(fruits)\r\n",
        "z=list(fruits)\r\n",
        "print(z)\r\n",
        "z[1]=\"orange\"\r\n",
        "print(z)\r\n",
        "fruits=tuple(z)\r\n",
        "print(fruits)"
      ],
      "execution_count": 198,
      "outputs": [
        {
          "output_type": "stream",
          "text": [
            "('apple', 'banana', 'cherry')\n",
            "['apple', 'banana', 'cherry']\n",
            "['apple', 'orange', 'cherry']\n",
            "('apple', 'orange', 'cherry')\n"
          ],
          "name": "stdout"
        }
      ]
    }
  ]
}